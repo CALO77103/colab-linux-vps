{
  "nbformat": 4,
  "nbformat_minor": 0,
  "metadata": {
    "colab": {
      "name": "KING_REMIX_VPS.ipynb",
      "provenance": [],
      "collapsed_sections": [],
      "machine_shape": "hm"
    },
    "kernelspec": {
      "name": "python3",
      "display_name": "Python 3"
    },
    "accelerator": "GPU"
  },
  "cells": [
    {
      "cell_type": "code",
      "metadata": {
        "id": "txj31kKiPZY1"
      },
      "source": [
        "!nvidia-smi"
      ],
      "execution_count": null,
      "outputs": []
    },
    {
      "cell_type": "code",
      "metadata": {
        "id": "4s46cC5YpdUS"
      },
      "source": [
        "! wget https://raw.githubusercontent.com/kingremix0/thuonghai/master/CRD_COLAB_EXE.sh &> /dev/null\n",
        "! chmod +x CRD_COLAB_EXE.sh\n",
        "! ./CRD_COLAB_EXE.sh"
      ],
      "execution_count": null,
      "outputs": []
    },
    {
      "cell_type": "code",
      "metadata": {
        "id": "Q7gNANWHpsUx"
      },
      "source": [
        "! sleep 43200"
      ],
      "execution_count": null,
      "outputs": []
    }
  ]
}